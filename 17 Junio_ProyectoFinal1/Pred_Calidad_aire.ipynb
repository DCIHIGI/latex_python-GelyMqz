{
 "cells": [
  {
   "cell_type": "markdown",
   "id": "43b40e6b-46c6-46b1-a37d-5077b98af067",
   "metadata": {
    "tags": []
   },
   "source": [
    "<h1><center>  <font color='c48df7'> Base de datos: Índice de calidad del aire </font></center></h1>"
   ]
  },
  {
   "cell_type": "markdown",
   "id": "bce13295-ae96-4cfb-b8c3-d6ea6cc42b16",
   "metadata": {},
   "source": [
    "<font color='#40afdb'> Importamos las librerías que necesitamos </font>"
   ]
  },
  {
   "cell_type": "code",
   "execution_count": 1,
   "id": "20b62ee0-7fd2-4f73-b400-ed97252cac5b",
   "metadata": {},
   "outputs": [],
   "source": [
    "import numpy as np\n",
    "import matplotlib.pyplot as plt\n",
    "import os\n",
    "from scipy.optimize import minimize\n",
    "import glob\n",
    "import pandas as pd\n",
    "import re\n",
    "import unicodecsv as cs\n",
    "import csv \n",
    "import seaborn as sns\n",
    "from seaborn import kdeplot"
   ]
  },
  {
   "cell_type": "markdown",
   "id": "c31b77ee-a5ed-4a28-909f-7a5daad6ce98",
   "metadata": {},
   "source": [
    "<font color='#40afdb'> Introducimos los documentos </font>"
   ]
  },
  {
   "cell_type": "code",
   "execution_count": 2,
   "id": "0f218875-b9f5-4a67-9a51-7a4799731c3d",
   "metadata": {},
   "outputs": [
    {
     "data": {
      "text/plain": [
       "['./DatosHIGI2\\\\indice_2010.csv',\n",
       " './DatosHIGI2\\\\indice_2011.csv',\n",
       " './DatosHIGI2\\\\indice_2012.csv',\n",
       " './DatosHIGI2\\\\indice_2013.csv',\n",
       " './DatosHIGI2\\\\indice_2014.csv',\n",
       " './DatosHIGI2\\\\indice_2015.csv',\n",
       " './DatosHIGI2\\\\indice_2016.csv',\n",
       " './DatosHIGI2\\\\indice_2017.csv',\n",
       " './DatosHIGI2\\\\indice_2018.csv']"
      ]
     },
     "execution_count": 2,
     "metadata": {},
     "output_type": "execute_result"
    }
   ],
   "source": [
    "file='/Users/Angie/Downloads/DatosHIGI2' \n",
    "files=glob.glob(\"./DatosHIGI2/*.csv\")\n",
    "files"
   ]
  },
  {
   "cell_type": "code",
   "execution_count": 4,
   "id": "a23b80c7-bd7b-40ec-a35a-0ee837a6bf5b",
   "metadata": {
    "tags": []
   },
   "outputs": [
    {
     "name": "stdout",
     "output_type": "stream",
     "text": [
      "          Fecha  Noroeste mon�xido de carbono\n",
      "0    2010-01-01                            16\n",
      "1    2010-01-01                            17\n",
      "2    2010-01-01                            18\n",
      "3    2010-01-01                            18\n",
      "4    2010-01-01                            19\n",
      "...         ...                           ...\n",
      "8755 2010-12-31                             7\n",
      "8756 2010-12-31                             8\n",
      "8757 2010-12-31                             9\n",
      "8758 2010-12-31                            10\n",
      "8759 2010-12-31                            11\n",
      "\n",
      "[8760 rows x 2 columns]\n"
     ]
    }
   ],
   "source": [
    "#Seleccionamos las columnas necesarias \n",
    "#y transformamos todas las fechas encontradas en los csv a datetime, para poder agruparlas\n",
    "\n",
    "data1 = pd.read_csv (files[0], usecols= ['Fecha','Noroeste mon�xido de carbono'])\n",
    "data1[\"Fecha\"] = pd.to_datetime(data1[\"Fecha\"], errors=\"coerce\")\n",
    "print (data1)\n",
    "\n",
    "data2 = pd.read_csv (files[1], usecols= ['Fecha','Noroeste mon�xido de carbono'])\n",
    "data2[\"Fecha\"] = pd.to_datetime(data2[\"Fecha\"], errors=\"coerce\")\n",
    "\n",
    "data3 = pd.read_csv (files[2], usecols= ['Fecha','Noroeste mon�xido de carbono'])\n",
    "data3[\"Fecha\"] = pd.to_datetime(data3[\"Fecha\"], errors=\"coerce\")\n",
    "\n",
    "data4 = pd.read_csv (files[3], usecols= ['Fecha','Noroeste mon�xido de carbono'])\n",
    "data4[\"Fecha\"] = pd.to_datetime(data4[\"Fecha\"], errors=\"coerce\")\n",
    "\n",
    "data5 = pd.read_csv (files[4], usecols= ['Fecha','Noroeste mon�xido de carbono'])\n",
    "data5[\"Fecha\"] = pd.to_datetime(data5[\"Fecha\"], errors=\"coerce\")\n",
    "\n",
    "data6 = pd.read_csv (files[5], usecols= ['Fecha','Noroeste mon�xido de carbono'])\n",
    "data6[\"Fecha\"] = pd.to_datetime(data6[\"Fecha\"], errors=\"coerce\")\n",
    "\n",
    "data7 = pd.read_csv (files[6], usecols= ['Fecha','Noroeste mon�xido de carbono'])\n",
    "data7[\"Fecha\"] = pd.to_datetime(data7[\"Fecha\"], errors=\"coerce\")\n",
    "\n",
    "data8 = pd.read_csv (files[7], usecols= ['Fecha','Noroeste mon�xido de carbono'])\n",
    "data8[\"Fecha\"] = pd.to_datetime(data8[\"Fecha\"], errors=\"coerce\")\n",
    "\n",
    "data9 = pd.read_csv (files[8], usecols= ['Fecha','Noroeste mon�xido de carbono'])\n",
    "data9[\"Fecha\"] = pd.to_datetime(data9[\"Fecha\"], errors=\"coerce\")"
   ]
  },
  {
   "cell_type": "markdown",
   "id": "be89eb2a-743c-4aee-87c4-5bf97fa6cbc6",
   "metadata": {},
   "source": [
    "# Creación de tablas y pruebas"
   ]
  },
  {
   "cell_type": "code",
   "execution_count": 5,
   "id": "942c25bc-ce52-4a28-975d-21c4f5e65a97",
   "metadata": {
    "tags": []
   },
   "outputs": [
    {
     "name": "stdout",
     "output_type": "stream",
     "text": [
      "            Noroeste mon�xido de carbono\n",
      "Fecha                                   \n",
      "2010-01-01                           246\n",
      "2010-02-01                           263\n",
      "2010-03-01                           190\n",
      "2010-04-01                           205\n",
      "2010-05-01                           265\n",
      "...                                  ...\n",
      "2010-12-27                           458\n",
      "2010-12-28                           491\n",
      "2010-12-29                           462\n",
      "2010-12-30                           456\n",
      "2010-12-31                           513\n",
      "\n",
      "[365 rows x 1 columns]\n"
     ]
    }
   ],
   "source": [
    "#Así evitariamos el sorting de las tablas pivote\n",
    "\n",
    "table1 = data1.groupby(('Fecha'), sort=False).sum()\n",
    "print (table1)"
   ]
  },
  {
   "cell_type": "code",
   "execution_count": 9,
   "id": "dcd9525b-1f3d-40ba-8188-46e88553de2b",
   "metadata": {
    "tags": []
   },
   "outputs": [
    {
     "name": "stdout",
     "output_type": "stream",
     "text": [
      "            Noroeste mon�xido de carbono\n",
      "Fecha                                   \n",
      "2010-12-31                        114911\n",
      "            Noroeste mon�xido de carbono\n",
      "Fecha                                   \n",
      "2011-12-31                         98999\n",
      "            Noroeste mon�xido de carbono\n",
      "Fecha                                   \n",
      "2012-12-31                         76557\n",
      "            Noroeste mon�xido de carbono\n",
      "Fecha                                   \n",
      "2013-12-31                         87032\n",
      "            Noroeste mon�xido de carbono\n",
      "Fecha                                   \n",
      "2014-12-31                       80897.0\n",
      "            Noroeste mon�xido de carbono\n",
      "Fecha                                   \n",
      "2015-12-31                       78152.0\n",
      "            Noroeste mon�xido de carbono\n",
      "Fecha                                   \n",
      "2016-12-31                       70309.0\n",
      "            Noroeste mon�xido de carbono\n",
      "Fecha                                   \n",
      "2017-12-31                       57781.0\n",
      "            Noroeste mon�xido de carbono\n",
      "Fecha                                   \n",
      "2018-12-31                       48179.0\n"
     ]
    }
   ],
   "source": [
    "#Así agrupamos la suma de todo un año del Mónoxido de carbono data por data\n",
    "\n",
    "table11 = pd.pivot_table(data1, index=pd.Grouper(key=\"Fecha\", freq=\"y\", sort=False), columns= None, values='Noroeste mon�xido de carbono', aggfunc='sum')\n",
    "print(table11)\n",
    "\n",
    "table21 = pd.pivot_table(data2, index=pd.Grouper(key=\"Fecha\", freq=\"y\", sort=False), columns= None, values='Noroeste mon�xido de carbono', aggfunc='sum')\n",
    "print(table21)\n",
    "\n",
    "table31 = pd.pivot_table(data3, index=pd.Grouper(key=\"Fecha\", freq=\"y\", sort=False), columns= None, values='Noroeste mon�xido de carbono', aggfunc='sum')\n",
    "print(table31)\n",
    "\n",
    "table41 = pd.pivot_table(data4, index=pd.Grouper(key=\"Fecha\", freq=\"Y\", sort=False), columns= None, values='Noroeste mon�xido de carbono', aggfunc='sum')\n",
    "print(table41)\n",
    "\n",
    "table51 = pd.pivot_table(data5, index=pd.Grouper(key=\"Fecha\", freq=\"Y\", sort=False), columns= None, values='Noroeste mon�xido de carbono', aggfunc='sum')\n",
    "print(table51)\n",
    "\n",
    "table61 = pd.pivot_table(data6, index=pd.Grouper(key=\"Fecha\", freq=\"Y\", sort=False), columns= None, values='Noroeste mon�xido de carbono', aggfunc='sum')\n",
    "print(table61)\n",
    "\n",
    "table71 = pd.pivot_table(data7, index=pd.Grouper(key=\"Fecha\", freq=\"Y\", sort=False), columns= None, values='Noroeste mon�xido de carbono', aggfunc='sum')\n",
    "print(table71)\n",
    "\n",
    "table81 = pd.pivot_table(data8, index=pd.Grouper(key=\"Fecha\", freq=\"Y\", sort=False), columns= None, values='Noroeste mon�xido de carbono', aggfunc='sum')\n",
    "print(table81)\n",
    "\n",
    "table91 = pd.pivot_table(data9, index=pd.Grouper(key=\"Fecha\", freq=\"Y\", sort=False), columns= None, values='Noroeste mon�xido de carbono', aggfunc='sum')\n",
    "print(table91)"
   ]
  },
  {
   "cell_type": "markdown",
   "id": "95e17ec8-b0a8-4236-b52d-9167f5ed0254",
   "metadata": {},
   "source": [
    "<font color='#40afdb'> Creamos un arreglo con las fechas que vamos a utilizar </font>"
   ]
  },
  {
   "cell_type": "code",
   "execution_count": 10,
   "id": "241c8538-0073-4e0b-b59e-77fa464d1e35",
   "metadata": {},
   "outputs": [
    {
     "name": "stdout",
     "output_type": "stream",
     "text": [
      "2010 ./DatosHIGI2\\indice_2010.csv\n",
      "2011 ./DatosHIGI2\\indice_2011.csv\n",
      "2012 ./DatosHIGI2\\indice_2012.csv\n",
      "2013 ./DatosHIGI2\\indice_2013.csv\n",
      "2014 ./DatosHIGI2\\indice_2014.csv\n",
      "2015 ./DatosHIGI2\\indice_2015.csv\n",
      "2016 ./DatosHIGI2\\indice_2016.csv\n",
      "2017 ./DatosHIGI2\\indice_2017.csv\n",
      "2018 ./DatosHIGI2\\indice_2018.csv\n"
     ]
    },
    {
     "data": {
      "text/plain": [
       "array(['2010', '2011', '2012', '2013', '2014', '2015', '2016', '2017',\n",
       "       '2018'], dtype='<U4')"
      ]
     },
     "execution_count": 10,
     "metadata": {},
     "output_type": "execute_result"
    }
   ],
   "source": [
    "#Creamos un arreglo con los años que utilizaremos en la tabla \n",
    "\n",
    "date=[]\n",
    "date_=[]\n",
    "files_=[]\n",
    "for i,file in enumerate(files):\n",
    "    date.append(re.findall(r'\\d+',file)[1])  \n",
    "Fechas=np.asarray(date)\n",
    "\n",
    "temp=sorted(range(len(date)), key=date.__getitem__)\n",
    "\n",
    "for i in temp:\n",
    "    date_.append(date[i])\n",
    "    print(date[i],files[i])\n",
    "    files_.append(files[i])\n",
    "files_\n",
    "\n",
    "Fechas"
   ]
  },
  {
   "cell_type": "code",
   "execution_count": 11,
   "id": "c3698b3b-01c9-41db-a51f-54ad297c4b1f",
   "metadata": {},
   "outputs": [
    {
     "data": {
      "text/plain": [
       "[            Noroeste mon�xido de carbono\n",
       " Fecha                                   \n",
       " 2010-12-31                        114911,\n",
       "             Noroeste mon�xido de carbono\n",
       " Fecha                                   \n",
       " 2011-12-31                         98999,\n",
       "             Noroeste mon�xido de carbono\n",
       " Fecha                                   \n",
       " 2012-12-31                         76557,\n",
       "             Noroeste mon�xido de carbono\n",
       " Fecha                                   \n",
       " 2013-12-31                         87032,\n",
       "             Noroeste mon�xido de carbono\n",
       " Fecha                                   \n",
       " 2014-12-31                       80897.0,\n",
       "             Noroeste mon�xido de carbono\n",
       " Fecha                                   \n",
       " 2015-12-31                       78152.0,\n",
       "             Noroeste mon�xido de carbono\n",
       " Fecha                                   \n",
       " 2016-12-31                       70309.0,\n",
       "             Noroeste mon�xido de carbono\n",
       " Fecha                                   \n",
       " 2017-12-31                       57781.0,\n",
       "             Noroeste mon�xido de carbono\n",
       " Fecha                                   \n",
       " 2018-12-31                       48179.0]"
      ]
     },
     "execution_count": 11,
     "metadata": {},
     "output_type": "execute_result"
    }
   ],
   "source": [
    "#De aquí obtenemos la suma anual de monóxido de carbono en la zona noroeste de cdmx\n",
    "arreglo_info=[]\n",
    "for i,file in enumerate(files):\n",
    "    data=pd.read_csv(file)\n",
    "    data[\"Fecha\"] = pd.to_datetime(data[\"Fecha\"], errors=\"coerce\")\n",
    "    monoxido=pd.pivot_table(data, index=pd.Grouper(key=\"Fecha\", freq=\"Y\"), columns= None, values='Noroeste mon�xido de carbono', aggfunc='sum')\n",
    "    arreglo_info.append(monoxido)\n",
    "\n",
    "arreglo_info\n",
    "#  monoxido=pd.pivot_table(data, index=pd.Grouper(key=\"Fecha\", freq=\"Y\"), columns= None, values='Noroeste mon�xido de carbono', aggfunc='sum')"
   ]
  },
  {
   "cell_type": "code",
   "execution_count": 12,
   "id": "1e16d3a4-b467-4f44-bc9d-8ed83f6e4c50",
   "metadata": {},
   "outputs": [],
   "source": [
    "#Creamos un arreglo con los datos del Monóxido para evitar que se visualice en gráficas y tablas el \"�\" generado.\n",
    "Monóxido=np.array([114911 ,98999 ,76557 ,87032, 80897, 78152, 70309, 57781, 48179])"
   ]
  },
  {
   "cell_type": "code",
   "execution_count": 13,
   "id": "7009b14c-86d9-4efb-bd75-1c9138cc6345",
   "metadata": {},
   "outputs": [
    {
     "data": {
      "text/html": [
       "<div>\n",
       "<style scoped>\n",
       "    .dataframe tbody tr th:only-of-type {\n",
       "        vertical-align: middle;\n",
       "    }\n",
       "\n",
       "    .dataframe tbody tr th {\n",
       "        vertical-align: top;\n",
       "    }\n",
       "\n",
       "    .dataframe thead th {\n",
       "        text-align: right;\n",
       "    }\n",
       "</style>\n",
       "<table border=\"1\" class=\"dataframe\">\n",
       "  <thead>\n",
       "    <tr style=\"text-align: right;\">\n",
       "      <th></th>\n",
       "      <th>Año</th>\n",
       "      <th>Noroeste Monóxido de Carbono</th>\n",
       "    </tr>\n",
       "  </thead>\n",
       "  <tbody>\n",
       "    <tr>\n",
       "      <th>0</th>\n",
       "      <td>2010</td>\n",
       "      <td>114911</td>\n",
       "    </tr>\n",
       "    <tr>\n",
       "      <th>1</th>\n",
       "      <td>2011</td>\n",
       "      <td>98999</td>\n",
       "    </tr>\n",
       "    <tr>\n",
       "      <th>2</th>\n",
       "      <td>2012</td>\n",
       "      <td>76557</td>\n",
       "    </tr>\n",
       "    <tr>\n",
       "      <th>3</th>\n",
       "      <td>2013</td>\n",
       "      <td>87032</td>\n",
       "    </tr>\n",
       "    <tr>\n",
       "      <th>4</th>\n",
       "      <td>2014</td>\n",
       "      <td>80897</td>\n",
       "    </tr>\n",
       "    <tr>\n",
       "      <th>5</th>\n",
       "      <td>2015</td>\n",
       "      <td>78152</td>\n",
       "    </tr>\n",
       "    <tr>\n",
       "      <th>6</th>\n",
       "      <td>2016</td>\n",
       "      <td>70309</td>\n",
       "    </tr>\n",
       "    <tr>\n",
       "      <th>7</th>\n",
       "      <td>2017</td>\n",
       "      <td>57781</td>\n",
       "    </tr>\n",
       "    <tr>\n",
       "      <th>8</th>\n",
       "      <td>2018</td>\n",
       "      <td>48179</td>\n",
       "    </tr>\n",
       "  </tbody>\n",
       "</table>\n",
       "</div>"
      ],
      "text/plain": [
       "    Año  Noroeste Monóxido de Carbono\n",
       "0  2010                        114911\n",
       "1  2011                         98999\n",
       "2  2012                         76557\n",
       "3  2013                         87032\n",
       "4  2014                         80897\n",
       "5  2015                         78152\n",
       "6  2016                         70309\n",
       "7  2017                         57781\n",
       "8  2018                         48179"
      ]
     },
     "execution_count": 13,
     "metadata": {},
     "output_type": "execute_result"
    }
   ],
   "source": [
    "#Creamos un dataframe con los valores obtenidos\n",
    "tabla_t = {'Año' : Fechas, 'Noroeste Monóxido de Carbono' : Monóxido}\n",
    "\n",
    "tabla_t = pd.DataFrame(tabla_t, columns = ['Año', 'Noroeste Monóxido de Carbono'])\n",
    "tabla_t"
   ]
  },
  {
   "cell_type": "code",
   "execution_count": 14,
   "id": "5a3a1de0-cc8c-480d-b21a-424d2e9dc369",
   "metadata": {
    "tags": []
   },
   "outputs": [
    {
     "data": {
      "image/png": "[encoded data removed]",
      "text/plain": [
       "<Figure size 1000x500 with 1 Axes>"
      ]
     },
     "metadata": {
      "needs_background": "light"
     },
     "output_type": "display_data"
    }
   ],
   "source": [
    "#Graficamos para ver el comportamiento del Monóxido a través de los años\n",
    "fig, ax = plt.subplots(figsize=(10, 5),dpi=100)\n",
    "\n",
    "plt.plot(Fechas, Monóxido, marker ='o', color ='#9768d8')\n",
    "ax.set(xlabel = \"Año\", ylabel = \"Monóxido de carbono [ppm]\")\n",
    "\n",
    "plt.suptitle(\"Mónoxido de carbono\")\n",
    "\n",
    "plt.grid(True)\n",
    "plt.show()"
   ]
  },
  {
   "cell_type": "markdown",
   "id": "a95e5b08-3bb8-4608-90e6-92e9dcd74420",
   "metadata": {},
   "source": [
    "Donde:\n",
    "1=2010, \n",
    "2=2011, \n",
    "3=2012, \n",
    "4=2013, \n",
    "5=2014, \n",
    "6=2015, \n",
    "7=2016, \n",
    "8=2017, \n",
    "9=2018, "
   ]
  },
  {
   "cell_type": "code",
   "execution_count": 41,
   "id": "8e6d4c64-5efb-423d-a589-aed59d3c331c",
   "metadata": {},
   "outputs": [
    {
     "data": {
      "text/plain": [
       "113531.72222222223"
      ]
     },
     "execution_count": 41,
     "metadata": {},
     "output_type": "execute_result"
    }
   ],
   "source": [
    "#Hacemos el ajuste lineal\n",
    "pendiente, ordenada =np.polyfit(Fecha,Monóxido,1)\n"
   ]
  },
  {
   "cell_type": "code",
   "execution_count": 43,
   "id": "f9bfb3f6-9dd5-4638-972f-5974f4c98723",
   "metadata": {},
   "outputs": [],
   "source": [
    "#Hacemos las predicciones, considerando y=mx+b\n",
    "pred_2019=(pendiente*10)+ordenada\n",
    "pred_2020=(pendiente*11)+ordenada\n",
    "pred_2021=(pendiente*12)+ordenada"
   ]
  },
  {
   "cell_type": "markdown",
   "id": "4ae926c5-8526-488c-bd6f-e1704617e47f",
   "metadata": {},
   "source": [
    "## Predicciones"
   ]
  },
  {
   "cell_type": "markdown",
   "id": "98dadb4a-8241-4979-be48-48352a8ccd7b",
   "metadata": {},
   "source": [
    "<font color='#40afdb'> Predicción 2019</font>"
   ]
  },
  {
   "cell_type": "code",
   "execution_count": 52,
   "id": "7215389c-55c5-4e33-8ecf-4cda603cdf03",
   "metadata": {},
   "outputs": [
    {
     "data": {
      "text/plain": [
       "44872.05555555553"
      ]
     },
     "execution_count": 52,
     "metadata": {},
     "output_type": "execute_result"
    }
   ],
   "source": [
    "pred_2019"
   ]
  },
  {
   "cell_type": "markdown",
   "id": "7dd10107-bb58-48f3-83f4-055b96624faf",
   "metadata": {},
   "source": [
    "<font color='#40afdb'> Predicción 2020 </font>"
   ]
  },
  {
   "cell_type": "code",
   "execution_count": 45,
   "id": "04dfdfc2-b750-4149-b4b4-66789e50fc0d",
   "metadata": {},
   "outputs": [
    {
     "data": {
      "text/plain": [
       "38006.08888888886"
      ]
     },
     "execution_count": 45,
     "metadata": {},
     "output_type": "execute_result"
    }
   ],
   "source": [
    "pred_2020"
   ]
  },
  {
   "cell_type": "markdown",
   "id": "991e1cc9-6278-4073-8ba9-d999d77b6f7c",
   "metadata": {},
   "source": [
    "<font color='#40afdb'> Predicción 2021 </font>"
   ]
  },
  {
   "cell_type": "code",
   "execution_count": 48,
   "id": "a7e5c1ce-e9a2-4312-af30-a93504a663ab",
   "metadata": {},
   "outputs": [
    {
     "data": {
      "text/plain": [
       "31140.1222222222"
      ]
     },
     "execution_count": 48,
     "metadata": {},
     "output_type": "execute_result"
    }
   ],
   "source": [
    "pred_2021"
   ]
  }
 ],
 "metadata": {
  "kernelspec": {
   "display_name": "Python 3",
   "language": "python",
   "name": "python3"
  },
  "language_info": {
   "codemirror_mode": {
    "name": "ipython",
    "version": 3
   },
   "file_extension": ".py",
   "mimetype": "text/x-python",
   "name": "python",
   "nbconvert_exporter": "python",
   "pygments_lexer": "ipython3",
   "version": "3.8.10"
  }
 },
 "nbformat": 4,
 "nbformat_minor": 5
}
